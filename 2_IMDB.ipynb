{
  "cells": [
    {
      "cell_type": "code",
      "execution_count": 1,
      "metadata": {
        "id": "3pKLfltkaTGI"
      },
      "outputs": [],
      "source": [
        "# If this does not work append \"tensorflow.\" before keras.\n",
        "# example: tensorflow.keras.models\n",
        "from keras.datasets import imdb"
      ]
    },
    {
      "cell_type": "code",
      "execution_count": 2,
      "metadata": {
        "colab": {
          "base_uri": "https://localhost:8080/"
        },
        "id": "q4kkC5m4dB9g",
        "outputId": "fa651f20-551c-42be-a6f0-c42129324d41"
      },
      "outputs": [
        {
          "name": "stdout",
          "output_type": "stream",
          "text": [
            "Downloading data from https://storage.googleapis.com/tensorflow/tf-keras-datasets/imdb.npz\n",
            "17464789/17464789 [==============================] - 9s 1us/step\n"
          ]
        }
      ],
      "source": [
        "(train_data, train_label), (test_data, test_label) = imdb.load_data(num_words = 10000)"
      ]
    },
    {
      "cell_type": "code",
      "execution_count": 3,
      "metadata": {
        "id": "zQSeawyChhL8"
      },
      "outputs": [],
      "source": [
        "import numpy as np\n",
        "\n",
        "def vectorize_sequences(sequences, dimensions = 10000):\n",
        "  results = np.zeros((len(sequences), dimensions))\n",
        "  for i,sequences in enumerate(sequences):\n",
        "    results[i, sequences] = 1\n",
        "  return results\n",
        "\n",
        "x_train = vectorize_sequences(train_data)\n",
        "y_train = vectorize_sequences(test_data)"
      ]
    },
    {
      "cell_type": "code",
      "execution_count": 4,
      "metadata": {
        "id": "bfvRmjVvj8UH"
      },
      "outputs": [],
      "source": [
        "y_train = np.asarray(train_label).astype('float32')\n",
        "y_test = np.asarray(test_label).astype('float32')"
      ]
    },
    {
      "cell_type": "code",
      "execution_count": 5,
      "metadata": {
        "id": "A1fj3RCWpl8g"
      },
      "outputs": [],
      "source": [
        "# If this does not work append \"tensorflow.\" before keras.\n",
        "# example: tensorflow.keras.models\n",
        "from keras.models import Sequential\n",
        "from keras.layers import Dense"
      ]
    },
    {
      "cell_type": "code",
      "execution_count": 6,
      "metadata": {
        "id": "9ESdCTH5p3xJ"
      },
      "outputs": [],
      "source": [
        "model = Sequential()\n",
        "model.add(Dense(16, input_shape=(10000, ), activation = \"relu\"))\n",
        "model.add(Dense(16, activation = \"relu\"))\n",
        "model.add(Dense(1, activation = \"sigmoid\"))"
      ]
    },
    {
      "cell_type": "code",
      "execution_count": 7,
      "metadata": {
        "id": "t3u-nNLarXzk"
      },
      "outputs": [],
      "source": [
        "model.compile(optimizer='adam', loss = 'mse', metrics = ['accuracy'])"
      ]
    },
    {
      "cell_type": "code",
      "execution_count": 8,
      "metadata": {
        "colab": {
          "base_uri": "https://localhost:8080/"
        },
        "id": "Z9mUT6JqrlmZ",
        "outputId": "2c647471-7be6-409f-b58b-19f1f56557c9"
      },
      "outputs": [
        {
          "name": "stdout",
          "output_type": "stream",
          "text": [
            "Model: \"sequential\"\n",
            "_________________________________________________________________\n",
            " Layer (type)                Output Shape              Param #   \n",
            "=================================================================\n",
            " dense (Dense)               (None, 16)                160016    \n",
            "                                                                 \n",
            " dense_1 (Dense)             (None, 16)                272       \n",
            "                                                                 \n",
            " dense_2 (Dense)             (None, 1)                 17        \n",
            "                                                                 \n",
            "=================================================================\n",
            "Total params: 160,305\n",
            "Trainable params: 160,305\n",
            "Non-trainable params: 0\n",
            "_________________________________________________________________\n"
          ]
        }
      ],
      "source": [
        "model.summary()"
      ]
    },
    {
      "cell_type": "code",
      "execution_count": 9,
      "metadata": {
        "colab": {
          "base_uri": "https://localhost:8080/"
        },
        "id": "4DeosLh5rnaQ",
        "outputId": "3d005b2f-4ca4-4f71-9e3a-2396bbfc170f"
      },
      "outputs": [
        {
          "name": "stdout",
          "output_type": "stream",
          "text": [
            "Epoch 1/20\n",
            "35/35 [==============================] - 4s 80ms/step - loss: 0.1770 - accuracy: 0.7776 - val_loss: 0.1113 - val_accuracy: 0.8796\n",
            "Epoch 2/20\n",
            "35/35 [==============================] - 1s 23ms/step - loss: 0.0816 - accuracy: 0.9120 - val_loss: 0.0858 - val_accuracy: 0.8935\n",
            "Epoch 3/20\n",
            "35/35 [==============================] - 1s 22ms/step - loss: 0.0554 - accuracy: 0.9405 - val_loss: 0.0825 - val_accuracy: 0.8911\n",
            "Epoch 4/20\n",
            "35/35 [==============================] - 1s 25ms/step - loss: 0.0405 - accuracy: 0.9607 - val_loss: 0.0824 - val_accuracy: 0.8892\n",
            "Epoch 5/20\n",
            "35/35 [==============================] - 1s 22ms/step - loss: 0.0301 - accuracy: 0.9721 - val_loss: 0.0840 - val_accuracy: 0.8875\n",
            "Epoch 6/20\n",
            "35/35 [==============================] - 1s 22ms/step - loss: 0.0222 - accuracy: 0.9820 - val_loss: 0.0869 - val_accuracy: 0.8824\n",
            "Epoch 7/20\n",
            "35/35 [==============================] - 1s 22ms/step - loss: 0.0170 - accuracy: 0.9871 - val_loss: 0.0895 - val_accuracy: 0.8805\n",
            "Epoch 8/20\n",
            "35/35 [==============================] - 1s 20ms/step - loss: 0.0129 - accuracy: 0.9905 - val_loss: 0.0920 - val_accuracy: 0.8780\n",
            "Epoch 9/20\n",
            "35/35 [==============================] - 1s 26ms/step - loss: 0.0103 - accuracy: 0.9924 - val_loss: 0.0942 - val_accuracy: 0.8781\n",
            "Epoch 10/20\n",
            "35/35 [==============================] - 1s 27ms/step - loss: 0.0084 - accuracy: 0.9940 - val_loss: 0.0965 - val_accuracy: 0.8747\n",
            "Epoch 11/20\n",
            "35/35 [==============================] - 1s 23ms/step - loss: 0.0073 - accuracy: 0.9945 - val_loss: 0.0982 - val_accuracy: 0.8748\n",
            "Epoch 12/20\n",
            "35/35 [==============================] - 1s 25ms/step - loss: 0.0065 - accuracy: 0.9949 - val_loss: 0.0995 - val_accuracy: 0.8731\n",
            "Epoch 13/20\n",
            "35/35 [==============================] - 1s 23ms/step - loss: 0.0059 - accuracy: 0.9951 - val_loss: 0.1004 - val_accuracy: 0.8723\n",
            "Epoch 14/20\n",
            "35/35 [==============================] - 1s 23ms/step - loss: 0.0055 - accuracy: 0.9954 - val_loss: 0.1015 - val_accuracy: 0.8717\n",
            "Epoch 15/20\n",
            "35/35 [==============================] - 1s 23ms/step - loss: 0.0052 - accuracy: 0.9954 - val_loss: 0.1023 - val_accuracy: 0.8717\n",
            "Epoch 16/20\n",
            "35/35 [==============================] - 1s 23ms/step - loss: 0.0049 - accuracy: 0.9957 - val_loss: 0.1031 - val_accuracy: 0.8708\n",
            "Epoch 17/20\n",
            "35/35 [==============================] - 1s 20ms/step - loss: 0.0048 - accuracy: 0.9957 - val_loss: 0.1036 - val_accuracy: 0.8713\n",
            "Epoch 18/20\n",
            "35/35 [==============================] - 1s 21ms/step - loss: 0.0046 - accuracy: 0.9958 - val_loss: 0.1044 - val_accuracy: 0.8697\n",
            "Epoch 19/20\n",
            "35/35 [==============================] - 1s 19ms/step - loss: 0.0045 - accuracy: 0.9958 - val_loss: 0.1049 - val_accuracy: 0.8704\n",
            "Epoch 20/20\n",
            "35/35 [==============================] - 1s 18ms/step - loss: 0.0043 - accuracy: 0.9959 - val_loss: 0.1057 - val_accuracy: 0.8708\n"
          ]
        }
      ],
      "source": [
        "history = model.fit(x_train, y_train, validation_split = 0.3, epochs = 20, verbose = 1, batch_size = 512)"
      ]
    }
  ],
  "metadata": {
    "colab": {
      "provenance": []
    },
    "kernelspec": {
      "display_name": "Python 3",
      "name": "python3"
    },
    "language_info": {
      "codemirror_mode": {
        "name": "ipython",
        "version": 3
      },
      "file_extension": ".py",
      "mimetype": "text/x-python",
      "name": "python",
      "nbconvert_exporter": "python",
      "pygments_lexer": "ipython3",
      "version": "3.9.13"
    }
  },
  "nbformat": 4,
  "nbformat_minor": 0
}
