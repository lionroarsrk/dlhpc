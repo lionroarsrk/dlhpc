{
  "nbformat": 4,
  "nbformat_minor": 0,
  "metadata": {
    "colab": {
      "provenance": [],
      "gpuType": "T4"
    },
    "kernelspec": {
      "name": "python3",
      "display_name": "Python 3"
    },
    "language_info": {
      "name": "python"
    },
    "accelerator": "GPU",
    "gpuClass": "standard"
  },
  "cells": [
    {
      "cell_type": "code",
      "execution_count": null,
      "metadata": {
        "colab": {
          "base_uri": "https://localhost:8080/"
        },
        "id": "BVsfr_Xdlzfr",
        "outputId": "0ee8da0c-bdb2-4cb4-9174-62611727b065"
      },
      "outputs": [
        {
          "output_type": "stream",
          "name": "stdout",
          "text": [
            "nvcc: NVIDIA (R) Cuda compiler driver\n",
            "Copyright (c) 2005-2022 NVIDIA Corporation\n",
            "Built on Wed_Sep_21_10:33:58_PDT_2022\n",
            "Cuda compilation tools, release 11.8, V11.8.89\n",
            "Build cuda_11.8.r11.8/compiler.31833905_0\n"
          ]
        }
      ],
      "source": [
        "!nvcc --version "
      ]
    },
    {
      "cell_type": "code",
      "source": [
        "!pip install git+https://github.com/andreinechaev/nvcc4jupyter.git"
      ],
      "metadata": {
        "colab": {
          "base_uri": "https://localhost:8080/"
        },
        "id": "gRar_CE-l2wA",
        "outputId": "faf447a6-22ec-4cab-81cf-4385a7a54a9f"
      },
      "execution_count": null,
      "outputs": [
        {
          "output_type": "stream",
          "name": "stdout",
          "text": [
            "Looking in indexes: https://pypi.org/simple, https://us-python.pkg.dev/colab-wheels/public/simple/\n",
            "Collecting git+https://github.com/andreinechaev/nvcc4jupyter.git\n",
            "  Cloning https://github.com/andreinechaev/nvcc4jupyter.git to /tmp/pip-req-build-78tzwjfc\n",
            "  Running command git clone --filter=blob:none --quiet https://github.com/andreinechaev/nvcc4jupyter.git /tmp/pip-req-build-78tzwjfc\n",
            "  Resolved https://github.com/andreinechaev/nvcc4jupyter.git to commit aac710a35f52bb78ab34d2e52517237941399eff\n",
            "  Preparing metadata (setup.py) ... \u001b[?25l\u001b[?25hdone\n",
            "Building wheels for collected packages: NVCCPlugin\n",
            "  Building wheel for NVCCPlugin (setup.py) ... \u001b[?25l\u001b[?25hdone\n",
            "  Created wheel for NVCCPlugin: filename=NVCCPlugin-0.0.2-py3-none-any.whl size=4287 sha256=896d8845b0aa54bd15eda356899dd92f1a948e1fc3f098abc6266a7aba4302f6\n",
            "  Stored in directory: /tmp/pip-ephem-wheel-cache-s1qcarhu/wheels/a8/b9/18/23f8ef71ceb0f63297dd1903aedd067e6243a68ea756d6feea\n",
            "Successfully built NVCCPlugin\n",
            "Installing collected packages: NVCCPlugin\n",
            "Successfully installed NVCCPlugin-0.0.2\n"
          ]
        }
      ]
    },
    {
      "cell_type": "code",
      "source": [
        "%load_ext nvcc_plugin "
      ],
      "metadata": {
        "colab": {
          "base_uri": "https://localhost:8080/"
        },
        "id": "Eaqf2fMSrHIt",
        "outputId": "acc57ebc-c6ca-4ada-e112-80e869b21965"
      },
      "execution_count": null,
      "outputs": [
        {
          "output_type": "stream",
          "name": "stdout",
          "text": [
            "created output directory at /content/src\n",
            "Out bin /content/result.out\n"
          ]
        }
      ]
    },
    {
      "cell_type": "code",
      "source": [
        "%%cu\n",
        "#include <iostream>  \n",
        "#include <cuda_runtime.h>\n",
        "\n",
        "__global__ void addVectors(int* A, int* B, int* C, int n)\n",
        "{\n",
        "\tint i = blockIdx.x * blockDim.x + threadIdx.x;\n",
        "\tif (i < n)\n",
        "\t{\n",
        "    \tC[i] = A[i] + B[i];\n",
        "\t}\n",
        "}\n",
        "\n",
        "int main()\n",
        "{\n",
        "\tint n = 1000000;  \n",
        "\tint* A, * B, * C;\n",
        "\tint size = n * sizeof(int);\n",
        "\n",
        "\t// Allocate memory on the host  \n",
        "\tcudaMallocHost(&A, size);  \n",
        "\tcudaMallocHost(&B, size);  \n",
        "\tcudaMallocHost(&C, size);\n",
        "\n",
        "\t// Initialize the vectors\n",
        "\tfor (int i = 0; i < n; i++)\n",
        "\t{\n",
        "    \tA[i] = i;\n",
        "    \tB[i] = i * 2;\n",
        "\t}\n",
        "\t// Allocate memory on the device  \n",
        "\tint* dev_A, * dev_B, * dev_C;  \n",
        "\tcudaMalloc(&dev_A, size);  \n",
        "\tcudaMalloc(&dev_B, size);  \n",
        "\tcudaMalloc(&dev_C, size);\n",
        "\n",
        "\t// Copy data from host to device\n",
        "\tcudaMemcpy(dev_A, A, size, cudaMemcpyHostToDevice);  \n",
        "\tcudaMemcpy(dev_B, B, size, cudaMemcpyHostToDevice);\n",
        "\n",
        "\t// Launch the kernel  \n",
        "\tint blockSize = 256;\n",
        "\tint numBlocks = (n + blockSize - 1) / blockSize;\n",
        "addVectors<<<numBlocks, blockSize>>>(dev_A, dev_B, dev_C, n);\n",
        "\n",
        "// Synchronize to make sure the kernel has finished\n",
        "cudaDeviceSynchronize();\n",
        "\n",
        "// Copy data from device to host\n",
        "cudaMemcpy(C, dev_C, size, cudaMemcpyDeviceToHost);\n",
        "\n",
        "// Print the results\n",
        "for (int i = 0; i < 10; i++)\n",
        "{\n",
        "    std::cout << C[i] << \" \";\n",
        "}\n",
        "std::cout << std::endl;\n",
        "\n",
        "\t// Free memory  \n",
        "\tcudaFree(dev_A);  \n",
        "\tcudaFree(dev_B);  \n",
        "\tcudaFree(dev_C);  \n",
        "\tcudaFreeHost(A);  \n",
        "\tcudaFreeHost(B);  \n",
        "\tcudaFreeHost(C);\n",
        "\n",
        "\treturn 0;\n",
        "}\n",
        "\n"
      ],
      "metadata": {
        "colab": {
          "base_uri": "https://localhost:8080/"
        },
        "id": "MJB2BQtWmCDU",
        "outputId": "e1e73530-5bdd-40d0-e154-d38158614bf5"
      },
      "execution_count": null,
      "outputs": [
        {
          "output_type": "stream",
          "name": "stdout",
          "text": [
            "0 3 6 9 12 15 18 21 24 27 \n",
            "\n"
          ]
        }
      ]
    },
    {
      "cell_type": "code",
      "source": [],
      "metadata": {
        "id": "JOmQtdJrmM6h"
      },
      "execution_count": null,
      "outputs": []
    }
  ]
}